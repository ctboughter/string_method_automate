{
 "cells": [
  {
   "cell_type": "markdown",
   "metadata": {},
   "source": [
    "# Making a Script to Average the Colvars\n",
    "    Want to replace the DHAM algorithm for generating the initial path of a string.\n",
    "    Need to be relatively efficient, fast, and easy to run on Midway\n",
    "    \n",
    "### Assume that every file we need is in the current directory... And we're off"
   ]
  },
  {
   "cell_type": "code",
   "execution_count": 1,
   "metadata": {
    "collapsed": true
   },
   "outputs": [],
   "source": [
    "## import all of our fun stuff\n",
    "%matplotlib inline\n",
    "import pandas\n",
    "import numpy as np\n",
    "import matplotlib.pyplot as mp"
   ]
  },
  {
   "cell_type": "code",
   "execution_count": 16,
   "metadata": {
    "collapsed": false
   },
   "outputs": [],
   "source": [
    "# The bash commands above this called python script convert the *colvars.traj file to a *out file\n",
    "x=pandas.read_csv('data0.out',header=None)\n",
    "colvar=x.as_matrix(columns=None)\n",
    "\n",
    "# Import the input colvars that are used as reference\n",
    "y=pandas.read_csv('inp0.out',header=None)\n",
    "input=y.as_matrix(columns=None)\n",
    "# this current method removes the first line of colvar (which isn't great)"
   ]
  },
  {
   "cell_type": "code",
   "execution_count": 17,
   "metadata": {
    "collapsed": true
   },
   "outputs": [],
   "source": [
    "#Need to do that weird little thing where I make the [-180,180] range to [0,360]\n",
    "# NOTE, WE ONLY PICKED COLVAR[2] and [4] because \n",
    "for i in range(0,len(colvar[:,2])):\n",
    "        if colvar[i,2] < 0:\n",
    "            colvar[i,2]=colvar[i,2]+360\n",
    "        if colvar[i,5] < 0:\n",
    "            colvar[i,5]=colvar[i,5]+360\n",
    "input[1]=input[1]+360\n",
    "input[4]=input[4]+360"
   ]
  },
  {
   "cell_type": "code",
   "execution_count": 18,
   "metadata": {
    "collapsed": true
   },
   "outputs": [],
   "source": [
    "# so we have, in order: R, Theta, Phi, Psi, theta_low, phi_low\n",
    "# This can change from colvars to colvars though, so make sure you check...\n",
    "end=len(colvar)\n",
    "# Take all the averages, but throw out the first 500 data points so it's equilibrated\n",
    "Ravg=np.average(colvar[500:end,0])\n",
    "Theta_avg=np.average(colvar[500:end,1])\n",
    "Phi_avg=np.average(colvar[500:end,2])\n",
    "Psi_avg=np.average(colvar[500:end,3])\n",
    "theta_l_avg=np.average(colvar[500:end,4])\n",
    "phi_l_avg=np.average(colvar[500:end,5])"
   ]
  },
  {
   "cell_type": "code",
   "execution_count": 19,
   "metadata": {
    "collapsed": false
   },
   "outputs": [],
   "source": [
    "# Take all the stdevs\n",
    "Rstd=np.std(colvar[500:end,0])\n",
    "Theta_atd=np.std(colvar[500:end,1])\n",
    "Phi_std=np.std(colvar[500:end,2])\n",
    "Psi_std=np.std(colvar[500:end,3])\n",
    "theta_l_std=np.std(colvar[500:end,4])\n",
    "phi_l_std=np.std(colvar[500:end,5])"
   ]
  },
  {
   "cell_type": "code",
   "execution_count": 20,
   "metadata": {
    "collapsed": true
   },
   "outputs": [],
   "source": [
    "# Get our colvar inputs (order Theta, Phi, Psi, theta_low, phi_low, R)\n",
    "theta=input[0]\n",
    "phi=input[1]\n",
    "psi=input[2]\n",
    "theta_low=input[3]\n",
    "phi_low=input[4]\n",
    "R=input[5]"
   ]
  },
  {
   "cell_type": "code",
   "execution_count": 23,
   "metadata": {
    "collapsed": false
   },
   "outputs": [
    {
     "name": "stdout",
     "output_type": "stream",
     "text": [
      "new_colvar input_colvar average_colvar\n",
      "[ 98.38090696] [ 101.] 95.7618139216\n",
      "[ 193.3304726] [ 188.] 198.660945203\n",
      "[ 26.85365503] [ 27.] 26.7073100576\n",
      "[ 104.39108047] [ 102.] 106.782160937\n",
      "[ 184.4790431] [ 190.] 178.958086209\n"
     ]
    }
   ],
   "source": [
    "# Great now let's calculate our new values\n",
    "# Want to weight the new angles based on the initial colvar\n",
    "\n",
    "# Set some weight w for the averaging (this w will be a function of r at some point)\n",
    "w=0.5 # w is between 0 and 1 always\n",
    "\n",
    "theta_new=w*Theta_avg+(1-w)*theta\n",
    "phi_new=w*Phi_avg+(1-w)*phi\n",
    "psi_new=w*Psi_avg+(1-w)*psi\n",
    "theta_l_new=w*theta_l_avg+(1-w)*theta_low\n",
    "phi_l_new=w*phi_l_avg+(1-w)*phi_low\n",
    "print('new_colvar','input_colvar','average_colvar')\n",
    "print(theta_new,theta,Theta_avg)\n",
    "print(phi_new,phi,Phi_avg)\n",
    "print(psi_new,psi,Psi_avg)\n",
    "print(theta_l_new,theta_low,theta_l_avg)\n",
    "print(phi_l_new,phi_low,phi_l_avg)"
   ]
  },
  {
   "cell_type": "code",
   "execution_count": 24,
   "metadata": {
    "collapsed": true
   },
   "outputs": [],
   "source": [
    "# R new is going to be created also in a creative way hopefully, but for now let's\n",
    "# just do a simple ∆R and let it be.\n",
    "\n",
    "dR=0.5\n",
    "R_new=R+dR"
   ]
  },
  {
   "cell_type": "code",
   "execution_count": 28,
   "metadata": {
    "collapsed": false
   },
   "outputs": [],
   "source": [
    "# Save these new beautiful variables\n",
    "final=[theta_new,phi_new,psi_new,theta_l_new,phi_l_new,R_new]\n",
    "# print 5 digits after the decimal place\n",
    "np.savetxt('inp1.out',final,fmt='%.5e')"
   ]
  }
 ],
 "metadata": {
  "kernelspec": {
   "display_name": "Python [Root]",
   "language": "python",
   "name": "Python [Root]"
  },
  "language_info": {
   "codemirror_mode": {
    "name": "ipython",
    "version": 3
   },
   "file_extension": ".py",
   "mimetype": "text/x-python",
   "name": "python",
   "nbconvert_exporter": "python",
   "pygments_lexer": "ipython3",
   "version": "3.5.2"
  }
 },
 "nbformat": 4,
 "nbformat_minor": 0
}
